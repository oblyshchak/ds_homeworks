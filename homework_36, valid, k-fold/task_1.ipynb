{
 "cells": [
  {
   "cell_type": "code",
   "execution_count": 31,
   "id": "68d19b97",
   "metadata": {},
   "outputs": [],
   "source": [
    "import numpy as np\n",
    "import pandas as pd\n",
    "import matplotlib \n",
    "import matplotlib.pyplot as plt \n",
    "import seaborn as sns\n",
    "\n",
    "from sklearn.metrics import mean_squared_error, mean_absolute_error\n",
    "from sklearn.linear_model import LinearRegression as LR  \n",
    "from sklearn.model_selection import KFold, cross_val_score, LeaveOneOut, train_test_split"
   ]
  },
  {
   "cell_type": "code",
   "execution_count": 23,
   "id": "e5da8bca",
   "metadata": {},
   "outputs": [],
   "source": [
    "data = pd.read_csv('student_scores.csv')"
   ]
  },
  {
   "cell_type": "code",
   "execution_count": 3,
   "id": "470fe827",
   "metadata": {},
   "outputs": [
    {
     "data": {
      "text/html": [
       "<div>\n",
       "<style scoped>\n",
       "    .dataframe tbody tr th:only-of-type {\n",
       "        vertical-align: middle;\n",
       "    }\n",
       "\n",
       "    .dataframe tbody tr th {\n",
       "        vertical-align: top;\n",
       "    }\n",
       "\n",
       "    .dataframe thead th {\n",
       "        text-align: right;\n",
       "    }\n",
       "</style>\n",
       "<table border=\"1\" class=\"dataframe\">\n",
       "  <thead>\n",
       "    <tr style=\"text-align: right;\">\n",
       "      <th></th>\n",
       "      <th>Hours</th>\n",
       "      <th>Scores</th>\n",
       "    </tr>\n",
       "  </thead>\n",
       "  <tbody>\n",
       "    <tr>\n",
       "      <th>count</th>\n",
       "      <td>25.000000</td>\n",
       "      <td>25.000000</td>\n",
       "    </tr>\n",
       "    <tr>\n",
       "      <th>mean</th>\n",
       "      <td>5.012000</td>\n",
       "      <td>51.480000</td>\n",
       "    </tr>\n",
       "    <tr>\n",
       "      <th>std</th>\n",
       "      <td>2.525094</td>\n",
       "      <td>25.286887</td>\n",
       "    </tr>\n",
       "    <tr>\n",
       "      <th>min</th>\n",
       "      <td>1.100000</td>\n",
       "      <td>17.000000</td>\n",
       "    </tr>\n",
       "    <tr>\n",
       "      <th>25%</th>\n",
       "      <td>2.700000</td>\n",
       "      <td>30.000000</td>\n",
       "    </tr>\n",
       "    <tr>\n",
       "      <th>50%</th>\n",
       "      <td>4.800000</td>\n",
       "      <td>47.000000</td>\n",
       "    </tr>\n",
       "    <tr>\n",
       "      <th>75%</th>\n",
       "      <td>7.400000</td>\n",
       "      <td>75.000000</td>\n",
       "    </tr>\n",
       "    <tr>\n",
       "      <th>max</th>\n",
       "      <td>9.200000</td>\n",
       "      <td>95.000000</td>\n",
       "    </tr>\n",
       "  </tbody>\n",
       "</table>\n",
       "</div>"
      ],
      "text/plain": [
       "           Hours     Scores\n",
       "count  25.000000  25.000000\n",
       "mean    5.012000  51.480000\n",
       "std     2.525094  25.286887\n",
       "min     1.100000  17.000000\n",
       "25%     2.700000  30.000000\n",
       "50%     4.800000  47.000000\n",
       "75%     7.400000  75.000000\n",
       "max     9.200000  95.000000"
      ]
     },
     "execution_count": 3,
     "metadata": {},
     "output_type": "execute_result"
    }
   ],
   "source": [
    "data.describe()"
   ]
  },
  {
   "cell_type": "code",
   "execution_count": 4,
   "id": "6f82d1c5",
   "metadata": {},
   "outputs": [],
   "source": [
    "x = data['Hours'].to_numpy().reshape(-1, 1)\n",
    "y = data['Scores'].to_numpy()"
   ]
  },
  {
   "cell_type": "code",
   "execution_count": 5,
   "id": "4d697982",
   "metadata": {},
   "outputs": [
    {
     "data": {
      "text/plain": [
       "<AxesSubplot: xlabel='Hours', ylabel='Scores'>"
      ]
     },
     "execution_count": 5,
     "metadata": {},
     "output_type": "execute_result"
    },
    {
     "data": {
      "image/png": "[encoded data removed]",
      "text/plain": [
       "<Figure size 640x480 with 1 Axes>"
      ]
     },
     "metadata": {},
     "output_type": "display_data"
    }
   ],
   "source": [
    "sns.regplot(x = 'Hours', y = 'Scores', data = data, fit_reg = False)"
   ]
  },
  {
   "cell_type": "code",
   "execution_count": 6,
   "id": "643e66bf",
   "metadata": {},
   "outputs": [],
   "source": [
    "data_train, data_test = train_test_split(data, test_size = 0.3, random_state = 42)"
   ]
  },
  {
   "cell_type": "code",
   "execution_count": 7,
   "id": "a50075ae",
   "metadata": {},
   "outputs": [],
   "source": [
    "x_train = data_train['Hours'].to_numpy().reshape(-1, 1)\n",
    "y_train = data_train['Scores']"
   ]
  },
  {
   "cell_type": "code",
   "execution_count": 8,
   "id": "455c8606",
   "metadata": {},
   "outputs": [],
   "source": [
    "x_test = data_test['Hours'].to_numpy().reshape(-1, 1)\n",
    "y_test = data_test['Scores']"
   ]
  },
  {
   "cell_type": "code",
   "execution_count": 9,
   "id": "6f453cc0",
   "metadata": {},
   "outputs": [],
   "source": [
    "model = LR().fit(x_train, y_train)"
   ]
  },
  {
   "cell_type": "code",
   "execution_count": 10,
   "id": "fc83647a",
   "metadata": {},
   "outputs": [],
   "source": [
    "def get_score(model, X_train, X_test, Y_train, Y_test):\n",
    "    model.fit(X_train, Y_train)\n",
    "    return model.score(X_test, Y_test)"
   ]
  },
  {
   "cell_type": "code",
   "execution_count": 11,
   "id": "43ecdaaa",
   "metadata": {},
   "outputs": [
    {
     "data": {
      "text/plain": [
       "0.9487647340257012"
      ]
     },
     "execution_count": 11,
     "metadata": {},
     "output_type": "execute_result"
    }
   ],
   "source": [
    "get_score(LR(), x_train, x_test, y_train,  y_test)"
   ]
  },
  {
   "cell_type": "code",
   "execution_count": 12,
   "id": "48ffcda3",
   "metadata": {},
   "outputs": [],
   "source": [
    "k_folds = KFold(n_splits = 5, shuffle = True, random_state = 42)\n"
   ]
  },
  {
   "cell_type": "code",
   "execution_count": 20,
   "id": "d3d712b8",
   "metadata": {},
   "outputs": [],
   "source": [
    "def array_problem(X, Y, model):\n",
    "    new_dict = {}\n",
    "    for train_index, test_index in k_folds.split(x, y):\n",
    "        X_train, X_test, Y_train, Y_test = X[train_index], X[test_index], \\\n",
    "        Y[train_index], Y[test_index]\n",
    "        score_fold = get_score(model, X_train, X_test, Y_train, Y_test)\n",
    "        print(score_fold)\n",
    "        new_dict[score_fold] = x[train_index], x[test_index], \\\n",
    "        y[train_index], y[test_index]\n",
    "    min_score = min(new_dict)\n",
    "    print(f\"We have some problems with array for {model} model: minimal score is {min_score}  for array {new_dict[min_score]}\")\n",
    "    return new_dict"
   ]
  },
  {
   "cell_type": "code",
   "execution_count": 21,
   "id": "626c94fd",
   "metadata": {},
   "outputs": [
    {
     "name": "stdout",
     "output_type": "stream",
     "text": [
      "0.9678055545167994\n",
      "0.7494974280770879\n",
      "0.9088154519064063\n",
      "0.9404375240567291\n",
      "0.9541450664986234\n",
      "We have some problems with array for LinearRegression() model: minimal score is 0.7494974280770879  for array (array([[2.5],\n",
      "       [3.2],\n",
      "       [8.5],\n",
      "       [3.5],\n",
      "       [9.2],\n",
      "       [5.5],\n",
      "       [8.3],\n",
      "       [7.7],\n",
      "       [5.9],\n",
      "       [4.5],\n",
      "       [1.1],\n",
      "       [8.9],\n",
      "       [2.5],\n",
      "       [1.9],\n",
      "       [6.1],\n",
      "       [7.4],\n",
      "       [2.7],\n",
      "       [4.8],\n",
      "       [6.9],\n",
      "       [7.8]]), array([[5.1],\n",
      "       [1.5],\n",
      "       [2.7],\n",
      "       [3.3],\n",
      "       [3.8]]), array([21, 27, 75, 30, 88, 60, 81, 85, 62, 41, 17, 95, 30, 24, 67, 69, 30,\n",
      "       54, 76, 86], dtype=int64), array([47, 20, 25, 42, 35], dtype=int64))\n",
      "{0.9678055545167994: (array([[5.1],\n",
      "       [3.2],\n",
      "       [8.5],\n",
      "       [3.5],\n",
      "       [1.5],\n",
      "       [9.2],\n",
      "       [5.5],\n",
      "       [2.7],\n",
      "       [7.7],\n",
      "       [4.5],\n",
      "       [3.3],\n",
      "       [1.1],\n",
      "       [8.9],\n",
      "       [1.9],\n",
      "       [6.1],\n",
      "       [7.4],\n",
      "       [2.7],\n",
      "       [4.8],\n",
      "       [3.8],\n",
      "       [7.8]]), array([[2.5],\n",
      "       [8.3],\n",
      "       [5.9],\n",
      "       [2.5],\n",
      "       [6.9]]), array([47, 27, 75, 30, 20, 88, 60, 25, 85, 41, 42, 17, 95, 24, 67, 69, 30,\n",
      "       54, 35, 86], dtype=int64), array([21, 81, 62, 30, 76], dtype=int64)), 0.7494974280770879: (array([[2.5],\n",
      "       [3.2],\n",
      "       [8.5],\n",
      "       [3.5],\n",
      "       [9.2],\n",
      "       [5.5],\n",
      "       [8.3],\n",
      "       [7.7],\n",
      "       [5.9],\n",
      "       [4.5],\n",
      "       [1.1],\n",
      "       [8.9],\n",
      "       [2.5],\n",
      "       [1.9],\n",
      "       [6.1],\n",
      "       [7.4],\n",
      "       [2.7],\n",
      "       [4.8],\n",
      "       [6.9],\n",
      "       [7.8]]), array([[5.1],\n",
      "       [1.5],\n",
      "       [2.7],\n",
      "       [3.3],\n",
      "       [3.8]]), array([21, 27, 75, 30, 88, 60, 81, 85, 62, 41, 17, 95, 30, 24, 67, 69, 30,\n",
      "       54, 76, 86], dtype=int64), array([47, 20, 25, 42, 35], dtype=int64)), 0.9088154519064063: (array([[2.5],\n",
      "       [5.1],\n",
      "       [1.5],\n",
      "       [9.2],\n",
      "       [5.5],\n",
      "       [8.3],\n",
      "       [2.7],\n",
      "       [7.7],\n",
      "       [5.9],\n",
      "       [3.3],\n",
      "       [1.1],\n",
      "       [2.5],\n",
      "       [1.9],\n",
      "       [6.1],\n",
      "       [7.4],\n",
      "       [2.7],\n",
      "       [4.8],\n",
      "       [3.8],\n",
      "       [6.9],\n",
      "       [7.8]]), array([[3.2],\n",
      "       [8.5],\n",
      "       [3.5],\n",
      "       [4.5],\n",
      "       [8.9]]), array([21, 47, 20, 88, 60, 81, 25, 85, 62, 42, 17, 30, 24, 67, 69, 30, 54,\n",
      "       35, 76, 86], dtype=int64), array([27, 75, 30, 41, 95], dtype=int64)), 0.9404375240567291: (array([[2.5],\n",
      "       [5.1],\n",
      "       [3.2],\n",
      "       [8.5],\n",
      "       [3.5],\n",
      "       [1.5],\n",
      "       [9.2],\n",
      "       [5.5],\n",
      "       [8.3],\n",
      "       [2.7],\n",
      "       [7.7],\n",
      "       [5.9],\n",
      "       [4.5],\n",
      "       [3.3],\n",
      "       [1.1],\n",
      "       [8.9],\n",
      "       [2.5],\n",
      "       [7.4],\n",
      "       [3.8],\n",
      "       [6.9]]), array([[1.9],\n",
      "       [6.1],\n",
      "       [2.7],\n",
      "       [4.8],\n",
      "       [7.8]]), array([21, 47, 27, 75, 30, 20, 88, 60, 81, 25, 85, 62, 41, 42, 17, 95, 30,\n",
      "       69, 35, 76], dtype=int64), array([24, 67, 30, 54, 86], dtype=int64)), 0.9541450664986234: (array([[2.5],\n",
      "       [5.1],\n",
      "       [3.2],\n",
      "       [8.5],\n",
      "       [3.5],\n",
      "       [1.5],\n",
      "       [8.3],\n",
      "       [2.7],\n",
      "       [5.9],\n",
      "       [4.5],\n",
      "       [3.3],\n",
      "       [8.9],\n",
      "       [2.5],\n",
      "       [1.9],\n",
      "       [6.1],\n",
      "       [2.7],\n",
      "       [4.8],\n",
      "       [3.8],\n",
      "       [6.9],\n",
      "       [7.8]]), array([[9.2],\n",
      "       [5.5],\n",
      "       [7.7],\n",
      "       [1.1],\n",
      "       [7.4]]), array([21, 47, 27, 75, 30, 20, 81, 25, 62, 41, 42, 95, 30, 24, 67, 30, 54,\n",
      "       35, 76, 86], dtype=int64), array([88, 60, 85, 17, 69], dtype=int64))}\n"
     ]
    }
   ],
   "source": [
    "print(array_problem(x, y, LR()))"
   ]
  },
  {
   "cell_type": "code",
   "execution_count": 22,
   "id": "86d83b27",
   "metadata": {},
   "outputs": [
    {
     "data": {
      "text/plain": [
       "0.9041402050111291"
      ]
     },
     "execution_count": 22,
     "metadata": {},
     "output_type": "execute_result"
    }
   ],
   "source": [
    "scores = cross_val_score(model, x, y, cv = k_folds)\n",
    "scores.mean()"
   ]
  },
  {
   "cell_type": "markdown",
   "id": "dd7de794",
   "metadata": {},
   "source": [
    "В данній задачі я використала метод оцінки перевірки машинного навчання - K-Fold(к-кратна крос валідація). Обрала я цей метод, тому що він є найпопулярнішим серед запропонованих та найбільш точним у своєму вімірюванні, та досить зрозумілим."
   ]
  }
 ],
 "metadata": {
  "kernelspec": {
   "display_name": "Python 3 (ipykernel)",
   "language": "python",
   "name": "python3"
  },
  "language_info": {
   "codemirror_mode": {
    "name": "ipython",
    "version": 3
   },
   "file_extension": ".py",
   "mimetype": "text/x-python",
   "name": "python",
   "nbconvert_exporter": "python",
   "pygments_lexer": "ipython3",
   "version": "3.11.1"
  }
 },
 "nbformat": 4,
 "nbformat_minor": 5
}
