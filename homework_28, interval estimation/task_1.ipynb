{
 "cells": [
  {
   "cell_type": "markdown",
   "metadata": {},
   "source": [
    "|x(i)     |1      |2      |4      | 6    |    7 | \n",
    "|:---    | :---: | :---: |:---:  |:---: | ---: |\n",
    "|n(i)     |2      |3      |10     |3     | 2    |"
   ]
  },
  {
   "cell_type": "markdown",
   "metadata": {},
   "source": [
    "##### n = 20,   $\\gamma = 0.95 $"
   ]
  },
  {
   "cell_type": "markdown",
   "metadata": {},
   "source": [
    "\\begin{equation*}\n",
    "{t_𝛾} = t(𝛾, n) = 2.093\n",
    "\\end{equation*}"
   ]
  },
  {
   "cell_type": "markdown",
   "metadata": {},
   "source": [
    "\\begin{equation*}\n",
    "\\hat{X_b} = \\frac{1}{n} * \\sum_{i=1}^{k}x_i * n_i\n",
    "\\end{equation*}"
   ]
  },
  {
   "cell_type": "markdown",
   "metadata": {},
   "source": [
    "\\begin{equation*}\n",
    "\\hat{X_b}  = \\frac{1*2 + 2*3 + 4*10 + 6 *3 + 7 * 2} {20} = 4\n",
    "\\end{equation*}"
   ]
  },
  {
   "cell_type": "markdown",
   "metadata": {},
   "source": [
    "\\begin{equation*}\n",
    "\\ S^2 = \\frac{1}{n-1} * \\sum_{i=1}^{k}(x_i - \\hat{X_b})^2 n_i\n",
    "\\end{equation*}"
   ]
  },
  {
   "cell_type": "markdown",
   "metadata": {},
   "source": [
    "\\begin{equation*}\n",
    "\\ S^2 = \\frac{(1 - 4)^2 *2 + (2 - 4)^2 * 3 + (4 - 4)^2 * 10 +(6 - 4)^2 * 3 + (7 - 4)^2 * 2 }{19} = 3.2\n",
    "\\end{equation*}"
   ]
  },
  {
   "cell_type": "markdown",
   "metadata": {},
   "source": [
    "\\begin{equation*}\n",
    "\\sqrt{S^2} = 1.79\n",
    "\\end{equation*}"
   ]
  },
  {
   "cell_type": "markdown",
   "metadata": {},
   "source": [
    "\\begin{equation*}\n",
    "\\delta = \\frac{S}{\\sqrt{n}} * {t_𝛾}  = \\frac{1.79}{\\sqrt{20}} * {2.093} = 0.84 \n",
    "\\end{equation*}"
   ]
  },
  {
   "cell_type": "markdown",
   "metadata": {},
   "source": [
    "\\begin{equation*}\n",
    "\\hat{X_b} - \\frac{S}{\\sqrt{n}} * {t_𝛾} < a < \\hat{X_b} + \\frac{S}{\\sqrt{n}} * {t_𝛾} = 3.16 < a < 4.84\n",
    "\\end{equation*}"
   ]
  },
  {
   "cell_type": "markdown",
   "metadata": {},
   "source": [
    "### result: 3.16 < a < 4.84"
   ]
  },
  {
   "cell_type": "code",
   "execution_count": null,
   "metadata": {},
   "outputs": [],
   "source": []
  }
 ],
 "metadata": {},
 "nbformat": 4,
 "nbformat_minor": 1
}
