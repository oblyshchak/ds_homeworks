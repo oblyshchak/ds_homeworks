{
 "cells": [
  {
   "cell_type": "code",
   "execution_count": 2,
   "metadata": {},
   "outputs": [
    {
     "name": "stdout",
     "output_type": "stream",
     "text": [
      "4.411\n"
     ]
    }
   ],
   "source": [
    "from task_1 import Hypothesis, Draw\n",
    "import pandas as pd\n",
    "import numpy as np"
   ]
  },
  {
   "cell_type": "markdown",
   "metadata": {},
   "source": [
    "Given : $\\alpha = 0.01$ "
   ]
  },
  {
   "cell_type": "code",
   "execution_count": 9,
   "metadata": {},
   "outputs": [
    {
     "name": "stdout",
     "output_type": "stream",
     "text": [
      "          x_i  n_i\n",
      "1     [0, 24]    1\n",
      "2    [24, 48]    2\n",
      "3    [48, 72]    4\n",
      "4    [72, 96]    6\n",
      "5   [96, 120]   12\n",
      "6  [120, 144]   16\n",
      "7  [144, 168]    6\n",
      "8  [162, 192]    2\n",
      "9  [192, 216]    1\n"
     ]
    }
   ],
   "source": [
    "data = {\n",
    "    'x_i': [[0, 24], [24, 48], [48, 72], [72, 96], [96, 120], [120, 144], [144, 168], [162, 192], [192, 216]],\n",
    "    'n_i' : [1, 2, 4, 6, 12, 16, 6, 2, 1]}\n",
    "\n",
    "table = pd.DataFrame(data, index=range(1, 10))\n",
    "print(table)"
   ]
  },
  {
   "cell_type": "markdown",
   "metadata": {},
   "source": [
    "$ H_0 $- генеральна сукупність має нормальний закон розподілу"
   ]
  },
  {
   "cell_type": "markdown",
   "metadata": {},
   "source": [
    "\\begin{equation*}\n",
    "X_i = \\frac{a_1 + a_2}{2}\n",
    "\\end{equation*}"
   ]
  },
  {
   "cell_type": "markdown",
   "metadata": {},
   "source": [
    "\\begin{equation*}\n",
    "\\hat{X_b} = \\frac{1}{n} * \\sum_{i=1}^{k}x_i * n_i\n",
    "\\end{equation*}"
   ]
  },
  {
   "cell_type": "markdown",
   "metadata": {},
   "source": [
    "\\begin{equation*}\n",
    "\\hat{D} = \\frac{1}{n} * \\sum_{i=1}^{k}x_i^2 * n_i\n",
    "\\end{equation*}"
   ]
  },
  {
   "cell_type": "markdown",
   "metadata": {},
   "source": [
    "\\begin{equation*}\n",
    "\\sigma = \\sqrt{\\hat{D}}\n",
    "\\end{equation*}"
   ]
  },
  {
   "cell_type": "code",
   "execution_count": 10,
   "metadata": {},
   "outputs": [
    {
     "name": "stdout",
     "output_type": "stream",
     "text": [
      "                              0\n",
      "mean                 114.600000\n",
      "dispersion          1437.120000\n",
      "standard deviation    37.909366\n"
     ]
    }
   ],
   "source": [
    "array = [[0, 24], [24, 48], [48, 72], [72, 96], [96, 120], [120, 144], [144, 168], [162, 192], [192, 216]]\n",
    "n_i = [1, 2, 4, 6, 12, 16, 6, 2, 1]\n",
    "obj = Hypothesis(array, n_i)\n",
    "table = Draw(obj)\n",
    "\n",
    "print(table.table_av())"
   ]
  },
  {
   "cell_type": "markdown",
   "metadata": {},
   "source": [
    "\\begin{equation*}\n",
    "z_i = \\frac{a_1 - \\hat{X_b}}{\\sigma}\n",
    "\\end{equation*}"
   ]
  },
  {
   "cell_type": "markdown",
   "metadata": {},
   "source": [
    "\\begin{equation*}\n",
    "p_i = \\Phi(z_i+1) - \\Phi(z_i)\n",
    "\\end{equation*}"
   ]
  },
  {
   "cell_type": "markdown",
   "metadata": {},
   "source": [
    "\\begin{equation*}\n",
    "\\hat{n_i} = n * p_i\n",
    "\\end{equation*}"
   ]
  },
  {
   "cell_type": "code",
   "execution_count": 11,
   "metadata": {},
   "outputs": [
    {
     "name": "stdout",
     "output_type": "stream",
     "text": [
      "        array  n_i    x_i     Pi  (ni - ni`)^2 / ni`\n",
      "1     [0, 24]    1   12.0  0.009               0.672\n",
      "2    [24, 48]    2   36.0  0.032               0.100\n",
      "3    [48, 72]    4   60.0  0.091               0.066\n",
      "4    [72, 96]    6   84.0  0.181               1.028\n",
      "5   [96, 120]   12  108.0  0.242               0.001\n",
      "6  [120, 144]   16  132.0  0.224               2.057\n",
      "7  [144, 168]    6  156.0  0.140               0.143\n",
      "8  [162, 192]    2  177.0  0.060               0.333\n",
      "9  [192, 216]    1  204.0  0.018               0.011\n"
     ]
    }
   ],
   "source": [
    "print(table.table_for_hyp())"
   ]
  },
  {
   "cell_type": "markdown",
   "metadata": {},
   "source": [
    "\\begin{equation*}\n",
    "K_e = \\sum_{i=1}^{k}\\frac{(n_i - \\hat{n_i})^2}{\\hat{n_i}} = 4.41\n",
    "\\end{equation*}"
   ]
  },
  {
   "cell_type": "code",
   "execution_count": 12,
   "metadata": {},
   "outputs": [
    {
     "name": "stdout",
     "output_type": "stream",
     "text": [
      "4.411\n"
     ]
    }
   ],
   "source": [
    "print(obj.k_empirical())"
   ]
  },
  {
   "cell_type": "markdown",
   "metadata": {},
   "source": [
    "\\begin{equation*}\n",
    "r = m - s - 1 = 9 - 2 - 1 = 6\n",
    "\\end{equation*}"
   ]
  },
  {
   "attachments": {
    "values.jpg": {
     "image/jpeg": "[encoded data removed]"
    }
   },
   "cell_type": "markdown",
   "metadata": {},
   "source": [
    "![values.jpg](attachment:values.jpg)"
   ]
  },
  {
   "cell_type": "markdown",
   "metadata": {},
   "source": [
    "\\begin{equation*}\n",
    "K_e < K_k = 4.41 < 16.8\n",
    "\\end{equation*}"
   ]
  },
  {
   "cell_type": "markdown",
   "metadata": {},
   "source": [
    "\n",
    "Було висунуто гіпотезу про нормальний розподіл значень у вибірці. За даними обчисленнями та результатами можемо зробити висновок, що гіпотеза є прийнятною."
   ]
  }
 ],
 "metadata": {
  "kernelspec": {
   "display_name": "Python 3 (ipykernel)",
   "language": "python",
   "name": "python3"
  },
  "language_info": {
   "codemirror_mode": {
    "name": "ipython",
    "version": 3
   },
   "file_extension": ".py",
   "mimetype": "text/x-python",
   "name": "python",
   "nbconvert_exporter": "python",
   "pygments_lexer": "ipython3",
   "version": "3.9.12"
  },
  "vscode": {
   "interpreter": {
    "hash": "7e1bde635a3a1ed1b2dc418dc4d654886efefd11b784dfc8f807e0f4a9e725de"
   }
  }
 },
 "nbformat": 4,
 "nbformat_minor": 2
}
