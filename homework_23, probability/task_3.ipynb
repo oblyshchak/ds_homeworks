{
 "cells": [
  {
   "attachments": {},
   "cell_type": "markdown",
   "metadata": {},
   "source": [
    "A = 2/3 (60% high quality products)\n",
    "B = 1/3 (84% high quality products)"
   ]
  },
  {
   "cell_type": "code",
   "execution_count": 2,
   "metadata": {},
   "outputs": [
    {
     "name": "stdout",
     "output_type": "stream",
     "text": [
      "The probability that a product of higher quality is taken at random from the conveyor 0.6799999999999999\n"
     ]
    }
   ],
   "source": [
    "p_sum_AB = 2/3 * 0.6 + 1/3 * 0.84\n",
    "print(f\"The probability that a product of higher quality is taken at random from the conveyor {p_sum_AB}\")"
   ]
  },
  {
   "cell_type": "code",
   "execution_count": 3,
   "metadata": {},
   "outputs": [
    {
     "name": "stdout",
     "output_type": "stream",
     "text": [
      "The probability that a product of higher quality and from first machine 58.82352941176471\n"
     ]
    }
   ],
   "source": [
    "p_A = (2/3 * 0.6) / p_sum_AB * 100\n",
    "print(f\"The probability that a product of higher quality and from first machine {p_A}\") "
   ]
  }
 ],
 "metadata": {
  "kernelspec": {
   "display_name": "Python 3",
   "language": "python",
   "name": "python3"
  },
  "language_info": {
   "codemirror_mode": {
    "name": "ipython",
    "version": 3
   },
   "file_extension": ".py",
   "mimetype": "text/x-python",
   "name": "python",
   "nbconvert_exporter": "python",
   "pygments_lexer": "ipython3",
   "version": "3.10.9"
  },
  "orig_nbformat": 4,
  "vscode": {
   "interpreter": {
    "hash": "7e1bde635a3a1ed1b2dc418dc4d654886efefd11b784dfc8f807e0f4a9e725de"
   }
  }
 },
 "nbformat": 4,
 "nbformat_minor": 2
}
