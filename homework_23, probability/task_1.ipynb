{
 "cells": [
  {
   "attachments": {},
   "cell_type": "markdown",
   "metadata": {},
   "source": [
    "####  Зношені = 3\n",
    "####  Незношені = 4\n",
    "\n",
    "| P  | W    | +/- |\n",
    "|--- |------| ----|\n",
    "| A  | ЗЗЗ  |  -  |\n",
    "| B  | ЗНН  |  +  |\n",
    "| C  | ЗЗН  |  -  |\n",
    "| D  | ННН  |  +  |\n",
    "| E  | НЗЗ  |  -  |\n",
    "| F  | ННЗ  |  +  |\n",
    "| J  | ЗНЗ  |  -  |\n",
    "| K  | НЗН  |  +  |"
   ]
  },
  {
   "cell_type": "code",
   "execution_count": 7,
   "metadata": {},
   "outputs": [
    {
     "name": "stdout",
     "output_type": "stream",
     "text": [
      "Probability of turning on 2 worked elements 62.85714285714285 %\n"
     ]
    }
   ],
   "source": [
    "p_B = 3/7 * 4/6 * 3/5 * 100\n",
    "p_D = 4/7 * 3/6 * 2/5 * 100\n",
    "p_F = 4/7 * 3/6 * 3/5 * 100\n",
    "p_K = 4/7 * 3/6 * 3/5 * 100\n",
    "p = p_B + p_D + p_F + p_K\n",
    "print(f\"Probability of turning on 2 worked elements {p} %\")"
   ]
  }
 ],
 "metadata": {
  "kernelspec": {
   "display_name": "Python 3",
   "language": "python",
   "name": "python3"
  },
  "language_info": {
   "codemirror_mode": {
    "name": "ipython",
    "version": 3
   },
   "file_extension": ".py",
   "mimetype": "text/x-python",
   "name": "python",
   "nbconvert_exporter": "python",
   "pygments_lexer": "ipython3",
   "version": "3.10.9 (tags/v3.10.9:1dd9be6, Dec  6 2022, 20:01:21) [MSC v.1934 64 bit (AMD64)]"
  },
  "orig_nbformat": 4,
  "vscode": {
   "interpreter": {
    "hash": "7e1bde635a3a1ed1b2dc418dc4d654886efefd11b784dfc8f807e0f4a9e725de"
   }
  }
 },
 "nbformat": 4,
 "nbformat_minor": 2
}
