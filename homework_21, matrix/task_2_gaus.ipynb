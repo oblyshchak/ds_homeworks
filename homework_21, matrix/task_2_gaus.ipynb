{
 "cells": [
  {
   "cell_type": "code",
   "execution_count": 17,
   "metadata": {},
   "outputs": [],
   "source": [
    "a = [\n",
    "    [4, 2, 0],\n",
    "    [1, 3 ,2],\n",
    "    [-1, 3, 10]\n",
    "]"
   ]
  },
  {
   "cell_type": "code",
   "execution_count": 18,
   "metadata": {},
   "outputs": [
    {
     "name": "stdout",
     "output_type": "stream",
     "text": [
      "[[1, 3, 2], [4, 2, 0], [-1, 3, 10]]\n"
     ]
    }
   ],
   "source": [
    "a[0], a[1] = a[1], a[0]\n",
    "print(a)\n"
   ]
  },
  {
   "cell_type": "code",
   "execution_count": 19,
   "metadata": {},
   "outputs": [
    {
     "name": "stdout",
     "output_type": "stream",
     "text": [
      "[[1, 3, 2], [0, -10, -8], [0, 6, 12]]\n"
     ]
    }
   ],
   "source": [
    "\n",
    "for i in range(len(a[1])):\n",
    "    a[1][i] = a[1][i] + a[0][i] * (-4)\n",
    "    a[2][i] = a[2][i] + a[0][i]\n",
    "print(a)"
   ]
  },
  {
   "cell_type": "code",
   "execution_count": 20,
   "metadata": {},
   "outputs": [
    {
     "name": "stdout",
     "output_type": "stream",
     "text": [
      "[[1, 3, 2], [0, 5, 4], [0, 1, 2]]\n"
     ]
    }
   ],
   "source": [
    "for i in range(len(a[1])):\n",
    "    a[1][i] = a[1][i] // (-2)\n",
    "    a[2][i] = a[2][i] // 6\n",
    "print(a)"
   ]
  },
  {
   "cell_type": "code",
   "execution_count": 21,
   "metadata": {},
   "outputs": [
    {
     "name": "stdout",
     "output_type": "stream",
     "text": [
      "[[1, 3, 2], [0, 1, 2], [0, 5, 4]]\n"
     ]
    }
   ],
   "source": [
    "a[1], a[2] = a[2], a[1]\n",
    "print(a)"
   ]
  },
  {
   "cell_type": "code",
   "execution_count": 22,
   "metadata": {},
   "outputs": [
    {
     "name": "stdout",
     "output_type": "stream",
     "text": [
      "[[1, 3, 2], [0, 1, 2], [0, 0, -6]]\n"
     ]
    }
   ],
   "source": [
    "for i in range(len(a[1])):\n",
    "    a[2][i] = a[2][i] + a[1][i] * (-5)\n",
    "    \n",
    "print(a)"
   ]
  }
 ],
 "metadata": {
  "kernelspec": {
   "display_name": "Python 3",
   "language": "python",
   "name": "python3"
  },
  "language_info": {
   "codemirror_mode": {
    "name": "ipython",
    "version": 3
   },
   "file_extension": ".py",
   "mimetype": "text/x-python",
   "name": "python",
   "nbconvert_exporter": "python",
   "pygments_lexer": "ipython3",
   "version": "3.10.9"
  },
  "orig_nbformat": 4,
  "vscode": {
   "interpreter": {
    "hash": "7e1bde635a3a1ed1b2dc418dc4d654886efefd11b784dfc8f807e0f4a9e725de"
   }
  }
 },
 "nbformat": 4,
 "nbformat_minor": 2
}
