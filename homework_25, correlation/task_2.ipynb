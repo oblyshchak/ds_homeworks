{
 "cells": [
  {
   "attachments": {},
   "cell_type": "markdown",
   "metadata": {},
   "source": [
    "\n",
    "| <font color = 'green' >Y </font>   |      |      | <font color = 'red' >X </font>    |      |      | <font color = 'green' > P(Y) </font>|\n",
    "|-----| ---  |   ---|   ---|   ---|   ---|-------|\n",
    "|     |<font color = 'red' > 10 </font> |<font color = 'red' >5 </font>      |<font color = 'red' > 2 </font> |<font color = 'red' > 1 </font> | <font color = 'red' > -5 </font> |       |\n",
    "|  <font color = 'green' > 20 </font> |0.01  |0.03  |0.02  |0.03  |0.01  |<font color = 'green' > 0.1 </font>|\n",
    "|  <font color = 'green' > 10 </font> |0.03  |0.09  |0.06  |0.09  |0.03  |<font color = 'green' > 0.3 </font>|\n",
    "|   <font color = 'green' > 2 </font>|0.02  |0.06  |0.04  |0.06  |0.02  |<font color = 'green' > 0.2 </font>|\n",
    "|  <font color = 'green' > -2 </font> |0.03  |0.09  |0.06  |0.09  |0.03  |<font color = 'green' > 0.3 </font>|\n",
    "|<font color = 'green' > -8 </font>|0.01  |0.03  |0.02  |0.03  |0.01  |<font color = 'green' > 0.1 </font>|\n",
    "|<font color = 'red' > P(X) </font>|<font color = 'red' > 0.1 </font>|<font color = 'red' > 0.3 </font>|<font color = 'red' > 0.2 </font>|<font color = 'red' > 0.3 </font>|<font color = 'red' > 0.1 </font>|   1   |"
   ]
  },
  {
   "attachments": {},
   "cell_type": "markdown",
   "metadata": {},
   "source": [
    "\\begin{equation*}\n",
    "M(x)   = 10 * 0.1 + 5 * 0.3 + 2 * 0.2 + 1 * 0.3 + (-5) * 0.1 = 2.699\n",
    "\\end{equation*}"
   ]
  },
  {
   "attachments": {},
   "cell_type": "markdown",
   "metadata": {},
   "source": [
    "\\begin{equation*}\n",
    "M(y)   = 20 * 0.1 + 10 * 0.3 + 2 * 0.2 + (-2) * 0.3 + (-8) * 0.1 = 4\n",
    "\\end{equation*}"
   ]
  },
  {
   "attachments": {},
   "cell_type": "markdown",
   "metadata": {},
   "source": [
    "\\begin{equation*}\n",
    "M(x^2)   = 21.1\n",
    "\\end{equation*}"
   ]
  },
  {
   "attachments": {},
   "cell_type": "markdown",
   "metadata": {},
   "source": [
    "\\begin{equation*}\n",
    "M(y^2)   = 78.4\n",
    "\\end{equation*}"
   ]
  },
  {
   "attachments": {},
   "cell_type": "markdown",
   "metadata": {},
   "source": [
    "\\begin{equation*}\n",
    "D(x)   = M(x^2) - M^2(x) = 21.1 - 7.23 = 13.87\n",
    "\\end{equation*}"
   ]
  },
  {
   "attachments": {},
   "cell_type": "markdown",
   "metadata": {},
   "source": [
    "\\begin{equation*}\n",
    "D(y)   = M(y^2) - M^2(y) = 78.4 - 16 = 62.4\n",
    "\\end{equation*}"
   ]
  },
  {
   "attachments": {},
   "cell_type": "markdown",
   "metadata": {},
   "source": [
    "\\begin{equation*}\n",
    "δ_x = 3.72\n",
    "\\end{equation*}"
   ]
  },
  {
   "attachments": {},
   "cell_type": "markdown",
   "metadata": {},
   "source": [
    "\\begin{equation*}\n",
    "δ_y = 7.89\n",
    "\\end{equation*}"
   ]
  },
  {
   "attachments": {},
   "cell_type": "markdown",
   "metadata": {},
   "source": [
    "\\begin{equation}\n",
    "M(XY)=\\sum_{i=1}^\\infty \\sum_{j=1}^\\infty(x_i y_j p_ij) = 10.8\n",
    "\\end{equation}"
   ]
  },
  {
   "attachments": {},
   "cell_type": "markdown",
   "metadata": {},
   "source": [
    "\\begin{equation}\n",
    "K_(xy) = M(XY) - M(X) * M(Y) = 10.8 - 2.68 * 4 = 0.08\n",
    "\\end{equation}"
   ]
  },
  {
   "attachments": {},
   "cell_type": "markdown",
   "metadata": {},
   "source": [
    "\\begin{equation}\n",
    "r_(xy) = \\frac{K_(xy)}{δ_x * δ_y} = \\frac{0.08}{3.72 * 7.89} = 0.001\n",
    "\\end{equation}"
   ]
  },
  {
   "cell_type": "code",
   "execution_count": 8,
   "metadata": {},
   "outputs": [
    {
     "name": "stdout",
     "output_type": "stream",
     "text": [
      "10.8\n"
     ]
    }
   ],
   "source": [
    "m_X_y = 10 * (20 * 0.01 + 10 * 0.03 + 2 * 0.02 + (-2) * 0.03 + (-8) * 0.01) + 5 * (20 * 0.03 + 10 * 0.09 + 2 * 0.06 + (-2) * 0.09 + (-8) * 0.03) + 2 * (20 * 0.02 + 10 * 0.06 + 2* 0.04 + (-2) * 0.06 + (-8) * 0.02) + 1 * (20 * 0.03 + 10 * 0.09 + 2 * 0.06 + (-2) * 0.09 + (-8) * 0.03) + (-5) * (20 * 0.01 + 10 * 0.03  + 2 * 0.02 + (-2) * 0.03 + (-8) * 0.01)\n",
    "print(m_X_y)"
   ]
  },
  {
   "cell_type": "code",
   "execution_count": 9,
   "metadata": {},
   "outputs": [
    {
     "name": "stdout",
     "output_type": "stream",
     "text": [
      "21.1\n",
      "78.4\n",
      "3.7242448899072143\n",
      "7.899367063252599\n"
     ]
    }
   ],
   "source": [
    "m_x = 10**2 * 0.1 + 5**2 * 0.3 + 2**2 * 0.2 + 1**2 * 0.3 + (-5)**2 * 0.1\n",
    "print(m_x)\n",
    "m_y = 20**2 * 0.1 + 10**2 * 0.3 + 2**2 * 0.2 + (-2)**2 * 0.3 + (-8)**2 * 0.1\n",
    "print(m_y)\n",
    "x_sqr = 13.87**0.5\n",
    "print(x_sqr)\n",
    "y_sqr = 62.4**0.5\n",
    "print(y_sqr)"
   ]
  }
 ],
 "metadata": {
  "kernelspec": {
   "display_name": "Python 3",
   "language": "python",
   "name": "python3"
  },
  "language_info": {
   "codemirror_mode": {
    "name": "ipython",
    "version": 3
   },
   "file_extension": ".py",
   "mimetype": "text/x-python",
   "name": "python",
   "nbconvert_exporter": "python",
   "pygments_lexer": "ipython3",
   "version": "3.10.9 (tags/v3.10.9:1dd9be6, Dec  6 2022, 20:01:21) [MSC v.1934 64 bit (AMD64)]"
  },
  "orig_nbformat": 4,
  "vscode": {
   "interpreter": {
    "hash": "7e1bde635a3a1ed1b2dc418dc4d654886efefd11b784dfc8f807e0f4a9e725de"
   }
  }
 },
 "nbformat": 4,
 "nbformat_minor": 2
}
