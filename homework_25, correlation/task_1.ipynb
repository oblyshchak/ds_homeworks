{
 "cells": [
  {
   "attachments": {},
   "cell_type": "markdown",
   "metadata": {},
   "source": [
    "| <font color = 'green' > Y </font>   |      |      | <font color = 'red' >X </font>    |      |<font color = 'green' > P(Y) </font>|\n",
    "|-----| ---  |   ---|   ---|   ---|   ---|\n",
    "|     |<font color = 'red' > 0 </font> |<font color = 'red' > 1 </font>      |<font color = 'red' > 2 </font> |<font color = 'red' > 3 </font> | |\n",
    "|  <font color = 'green' > 0 </font> |0  |0  |0  |0.216  |<font color = 'green' > 0.216 </font>|\n",
    "|  <font color = 'green' > 1 </font> |0  |0  |0.432  |0  |<font color = 'green' > 0.432 </font>|\n",
    "|   <font color = 'green' > 2 </font>|0  |0.288  |0  |0  |<font color = 'green' > 0.288 </font>|\n",
    "|  <font color = 'green' > 3 </font> |0.064  |0  |0  |0  |<font color = 'green' > 0.064 </font>|\n",
    "|<font color = 'red' > P(X) </font>|<font color = 'red' > 0.064 </font>|<font color = 'red' > 0.288 </font>|<font color = 'red' > 0.432 </font>|<font color = 'red' > 0.216 </font>|<font color = 'blue' > 1 </font>|"
   ]
  },
  {
   "attachments": {},
   "cell_type": "markdown",
   "metadata": {},
   "source": [
    "\\begin{equation*}\n",
    "M(x)   = 0 * 0.064 + 1 * 0.288 + 2 * 0.432 + 3 * 0.216 = 1.79\n",
    "\\end{equation*}"
   ]
  },
  {
   "attachments": {},
   "cell_type": "markdown",
   "metadata": {},
   "source": [
    "\\begin{equation*}\n",
    "M(y)   = 0 * 216 + 1 * 0.432 + 2 * 0.288 + 3 * 0.064 = 1.2\n",
    "\\end{equation*}"
   ]
  },
  {
   "attachments": {},
   "cell_type": "markdown",
   "metadata": {},
   "source": [
    "\\begin{equation*}\n",
    "D(x)   = M(x^2) - M^2(x) = 3.96 - 3.2 = 0.76 = 0.87^2\n",
    "\\end{equation*}"
   ]
  },
  {
   "attachments": {},
   "cell_type": "markdown",
   "metadata": {},
   "source": [
    "\\begin{equation*}\n",
    "D(y)   = M(y^2) - M^2(y) = 2.16 - 1.2^2 = 0.72 = 0.84^2\n",
    "\\end{equation*}"
   ]
  },
  {
   "attachments": {},
   "cell_type": "markdown",
   "metadata": {},
   "source": [
    "\\begin{equation}\n",
    "cov_(xy) = M(XY) - M(X) * M(Y) = (1*(2*0.288 ) + 2*(1*0.432)) - 1.2 * 1.79 = -0.7\n",
    "\\end{equation}"
   ]
  },
  {
   "attachments": {},
   "cell_type": "markdown",
   "metadata": {},
   "source": [
    "\\begin{equation}\n",
    "r_(xy) = \\frac{K_(xy)}{δ_x * δ_y} = \\frac{- 0.7}{0.87 * 0.84} = -0.95\n",
    "\\end{equation}"
   ]
  },
  {
   "attachments": {},
   "cell_type": "markdown",
   "metadata": {},
   "source": [
    "#### За отриманими результатами можна зробити висновок, що в данному випадку є дуже висока кореляція. Чим вище значення однієї змінної, тим нижче значення іншої"
   ]
  },
  {
   "cell_type": "code",
   "execution_count": 4,
   "metadata": {},
   "outputs": [
    {
     "name": "stdout",
     "output_type": "stream",
     "text": [
      "1.7999999999999998\n",
      "3.96\n"
     ]
    }
   ],
   "source": [
    "m_x = 0 * 0.064 + 1 * 0.288 + 2 * 0.432 + 3 * 0.216\n",
    "print(m_x)\n",
    "m_x_2 = 0 * 0.064 + 1 * 0.288 + 2**2 * 0.432 + 3**2 * 0.216\n",
    "print(m_x_2)"
   ]
  },
  {
   "cell_type": "code",
   "execution_count": 5,
   "metadata": {},
   "outputs": [
    {
     "name": "stdout",
     "output_type": "stream",
     "text": [
      "1.2\n",
      "2.16\n"
     ]
    }
   ],
   "source": [
    "m_y = 0 * 0.216 + 1 * 0.432 + 2 * 0.288 + 3 * 0.064\n",
    "print(m_y)\n",
    "m_y_2 = 0 * 0.216 + 1 * 0.432 + 2**2 * 0.288 + 3**2 * 0.064\n",
    "print(m_y_2)"
   ]
  },
  {
   "cell_type": "code",
   "execution_count": 2,
   "metadata": {},
   "outputs": [
    {
     "name": "stdout",
     "output_type": "stream",
     "text": [
      "-0.7080000000000002\n"
     ]
    }
   ],
   "source": [
    "cov_x_y = (1*(2*0.288 ) + 2*(1*0.432)) - 1.2 * 1.79\n",
    "print(cov_x_y)"
   ]
  }
 ],
 "metadata": {
  "kernelspec": {
   "display_name": "Python 3",
   "language": "python",
   "name": "python3"
  },
  "language_info": {
   "codemirror_mode": {
    "name": "ipython",
    "version": 3
   },
   "file_extension": ".py",
   "mimetype": "text/x-python",
   "name": "python",
   "nbconvert_exporter": "python",
   "pygments_lexer": "ipython3",
   "version": "3.10.9"
  },
  "orig_nbformat": 4,
  "vscode": {
   "interpreter": {
    "hash": "7e1bde635a3a1ed1b2dc418dc4d654886efefd11b784dfc8f807e0f4a9e725de"
   }
  }
 },
 "nbformat": 4,
 "nbformat_minor": 2
}
