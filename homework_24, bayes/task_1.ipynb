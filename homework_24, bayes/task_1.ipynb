{
 "cells": [
  {
   "cell_type": "markdown",
   "metadata": {},
   "source": [
    "P(I) = $\\frac{40}{100}$ = 0.4"
   ]
  },
  {
   "cell_type": "markdown",
   "metadata": {},
   "source": [
    "p(II) = $\\frac{60}{100}$ = 0.6"
   ]
  },
  {
   "cell_type": "markdown",
   "metadata": {},
   "source": [
    "P($\\frac{δ}{I}$) = 0.1"
   ]
  },
  {
   "cell_type": "markdown",
   "metadata": {},
   "source": [
    "P($\\frac{δ}{II}$) = 0.2"
   ]
  },
  {
   "cell_type": "markdown",
   "metadata": {},
   "source": [
    "P(δ) = P(I) x P($\\frac{δ}{I}$) + P(II) x P($\\frac{δ}{II}$) = 0.4 x 0.1 + 0.6 x 0.2 = 0.16"
   ]
  },
  {
   "cell_type": "markdown",
   "metadata": {},
   "source": [
    "P($\\frac{I}{δ}$) = $\\frac{P(I) * P(δ/I)}{P(δ)}$ = 0.25"
   ]
  }
 ],
 "metadata": {
  "kernelspec": {
   "display_name": "Python 3 (ipykernel)",
   "language": "python",
   "name": "python3"
  },
  "language_info": {
   "codemirror_mode": {
    "name": "ipython",
    "version": 3
   },
   "file_extension": ".py",
   "mimetype": "text/x-python",
   "name": "python",
   "nbconvert_exporter": "python",
   "pygments_lexer": "ipython3",
   "version": "3.9.12"
  },
  "vscode": {
   "interpreter": {
    "hash": "7e1bde635a3a1ed1b2dc418dc4d654886efefd11b784dfc8f807e0f4a9e725de"
   }
  }
 },
 "nbformat": 4,
 "nbformat_minor": 2
}
