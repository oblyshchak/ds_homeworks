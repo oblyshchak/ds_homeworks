{
 "cells": [
  {
   "cell_type": "code",
   "execution_count": 1,
   "id": "ded93309-6542-48aa-b67f-5e1edf92db85",
   "metadata": {},
   "outputs": [
    {
     "name": "stdout",
     "output_type": "stream",
     "text": [
      "         A\n",
      "0      1.0\n",
      "1      2.0\n",
      "2      3.0\n",
      "3      4.0\n",
      "4      5.0\n",
      "...    ...\n",
      "1645   7.0\n",
      "1646   8.0\n",
      "1647   9.0\n",
      "1648  10.0\n",
      "1649  10.0\n",
      "\n",
      "[1650 rows x 1 columns]\n"
     ]
    }
   ],
   "source": [
    "import pandas as pd\n",
    "import numpy as np\n",
    "\n",
    "# create a sample DataFrame with 1675 NaN values in column 'A'\n",
    "df = pd.DataFrame({'A': [1, 2, np.nan, 4, np.nan, 6, np.nan, 8, np.nan, 10, np.nan] * 150})\n",
    "\n",
    "# fill in missing values in column 'A' using linear interpolation\n",
    "df['A'] = df['A'].interpolate(method='linear')\n",
    "\n",
    "# print the interpolated DataFrame\n",
    "print(df)"
   ]
  },
  {
   "cell_type": "code",
   "execution_count": null,
   "id": "f291615f-69f4-496c-89cb-ccf276a463fc",
   "metadata": {},
   "outputs": [],
   "source": []
  }
 ],
 "metadata": {
  "kernelspec": {
   "display_name": "Python 3 (ipykernel)",
   "language": "python",
   "name": "python3"
  },
  "language_info": {
   "codemirror_mode": {
    "name": "ipython",
    "version": 3
   },
   "file_extension": ".py",
   "mimetype": "text/x-python",
   "name": "python",
   "nbconvert_exporter": "python",
   "pygments_lexer": "ipython3",
   "version": "3.11.1"
  }
 },
 "nbformat": 4,
 "nbformat_minor": 5
}
