{
 "cells": [
  {
   "cell_type": "code",
   "execution_count": 32,
   "id": "7967f18b-0192-4b5d-ac11-c2bb0ba559ab",
   "metadata": {},
   "outputs": [],
   "source": [
    "import pandas as pd\n",
    "import numpy as np\n",
    "from sklearn.linear_model import LinearRegression as LR\n",
    "from sklearn.preprocessing import PolynomialFeatures as PF\n",
    "from sklearn.model_selection import cross_val_score\n",
    "from sklearn.metrics import mean_squared_error\n",
    "import matplotlib.pyplot as plt"
   ]
  },
  {
   "cell_type": "code",
   "execution_count": 2,
   "id": "219c2ddc-d8be-4cb9-b173-d2e48bad61a8",
   "metadata": {},
   "outputs": [
    {
     "data": {
      "text/html": [
       "<div>\n",
       "<style scoped>\n",
       "    .dataframe tbody tr th:only-of-type {\n",
       "        vertical-align: middle;\n",
       "    }\n",
       "\n",
       "    .dataframe tbody tr th {\n",
       "        vertical-align: top;\n",
       "    }\n",
       "\n",
       "    .dataframe thead th {\n",
       "        text-align: right;\n",
       "    }\n",
       "</style>\n",
       "<table border=\"1\" class=\"dataframe\">\n",
       "  <thead>\n",
       "    <tr style=\"text-align: right;\">\n",
       "      <th></th>\n",
       "      <th>Position</th>\n",
       "      <th>Level</th>\n",
       "      <th>Salary</th>\n",
       "    </tr>\n",
       "  </thead>\n",
       "  <tbody>\n",
       "    <tr>\n",
       "      <th>0</th>\n",
       "      <td>Business Analyst</td>\n",
       "      <td>1</td>\n",
       "      <td>45000</td>\n",
       "    </tr>\n",
       "    <tr>\n",
       "      <th>1</th>\n",
       "      <td>Junior Consultant</td>\n",
       "      <td>2</td>\n",
       "      <td>50000</td>\n",
       "    </tr>\n",
       "    <tr>\n",
       "      <th>2</th>\n",
       "      <td>Senior Consultant</td>\n",
       "      <td>3</td>\n",
       "      <td>60000</td>\n",
       "    </tr>\n",
       "    <tr>\n",
       "      <th>3</th>\n",
       "      <td>Manager</td>\n",
       "      <td>4</td>\n",
       "      <td>80000</td>\n",
       "    </tr>\n",
       "    <tr>\n",
       "      <th>4</th>\n",
       "      <td>Country Manager</td>\n",
       "      <td>5</td>\n",
       "      <td>110000</td>\n",
       "    </tr>\n",
       "    <tr>\n",
       "      <th>5</th>\n",
       "      <td>Region Manager</td>\n",
       "      <td>6</td>\n",
       "      <td>150000</td>\n",
       "    </tr>\n",
       "    <tr>\n",
       "      <th>6</th>\n",
       "      <td>Partner</td>\n",
       "      <td>7</td>\n",
       "      <td>200000</td>\n",
       "    </tr>\n",
       "    <tr>\n",
       "      <th>7</th>\n",
       "      <td>Senior Partner</td>\n",
       "      <td>8</td>\n",
       "      <td>300000</td>\n",
       "    </tr>\n",
       "    <tr>\n",
       "      <th>8</th>\n",
       "      <td>C-level</td>\n",
       "      <td>9</td>\n",
       "      <td>500000</td>\n",
       "    </tr>\n",
       "    <tr>\n",
       "      <th>9</th>\n",
       "      <td>CEO</td>\n",
       "      <td>10</td>\n",
       "      <td>1000000</td>\n",
       "    </tr>\n",
       "  </tbody>\n",
       "</table>\n",
       "</div>"
      ],
      "text/plain": [
       "            Position  Level   Salary\n",
       "0   Business Analyst      1    45000\n",
       "1  Junior Consultant      2    50000\n",
       "2  Senior Consultant      3    60000\n",
       "3            Manager      4    80000\n",
       "4    Country Manager      5   110000\n",
       "5     Region Manager      6   150000\n",
       "6            Partner      7   200000\n",
       "7     Senior Partner      8   300000\n",
       "8            C-level      9   500000\n",
       "9                CEO     10  1000000"
      ]
     },
     "execution_count": 2,
     "metadata": {},
     "output_type": "execute_result"
    }
   ],
   "source": [
    "data = pd.read_csv('Position_Salaries.csv')\n",
    "data"
   ]
  },
  {
   "cell_type": "code",
   "execution_count": 4,
   "id": "bde39641-6810-4cab-a3a2-80dac1396a09",
   "metadata": {},
   "outputs": [],
   "source": [
    "x = data['Level'].to_numpy().reshape(-1, 1)\n",
    "y = data['Salary']\n"
   ]
  },
  {
   "cell_type": "code",
   "execution_count": 5,
   "id": "ed639655-fd6a-4b00-ab72-7be50a03547e",
   "metadata": {},
   "outputs": [
    {
     "data": {
      "text/plain": [
       "Text(0, 0.5, 'Salary')"
      ]
     },
     "execution_count": 5,
     "metadata": {},
     "output_type": "execute_result"
    },
    {
     "data": {
      "image/png": "[encoded data removed]",
      "text/plain": [
       "<Figure size 640x480 with 1 Axes>"
      ]
     },
     "metadata": {},
     "output_type": "display_data"
    }
   ],
   "source": [
    "plt.scatter(x, y)\n",
    "plt.xlabel('Level')\n",
    "plt.ylabel('Salary')"
   ]
  },
  {
   "cell_type": "code",
   "execution_count": 6,
   "id": "3f1df88f-adad-4eaf-ac8d-641b451efcce",
   "metadata": {},
   "outputs": [
    {
     "data": {
      "text/plain": [
       "[-421.90987837176175,\n",
       " -1674.9561700317756,\n",
       " -4686.9044156097325,\n",
       " -20136.078350043594,\n",
       " -1362.1456946563897,\n",
       " -169.827214358573,\n",
       " -373.295321934547,\n",
       " -11866.633274865517,\n",
       " -502281.03724710376]"
      ]
     },
     "execution_count": 6,
     "metadata": {},
     "output_type": "execute_result"
    }
   ],
   "source": [
    "degrees = range(1, 10)\n",
    "scores = []\n",
    "for degree in degrees:\n",
    "    model = PF(degree)\n",
    "    x_polynomial = model.fit_transform(x)\n",
    "    linear_model = LR()\n",
    "    score = np.mean(cross_val_score(linear_model, x_polynomial, y, cv = 2))\n",
    "    scores.append(score)\n",
    "\n",
    "scores"
   ]
  },
  {
   "cell_type": "code",
   "execution_count": 7,
   "id": "3e5c66e8-1054-4347-933a-b17280c085e9",
   "metadata": {},
   "outputs": [
    {
     "data": {
      "text/plain": [
       "6"
      ]
     },
     "execution_count": 7,
     "metadata": {},
     "output_type": "execute_result"
    }
   ],
   "source": [
    "best_degree = degrees[np.argmax(scores)]\n",
    "best_degree"
   ]
  },
  {
   "cell_type": "code",
   "execution_count": 8,
   "id": "098cecf0-4f65-41a2-a231-bda60589dc96",
   "metadata": {},
   "outputs": [],
   "source": [
    "model = PF(best_degree)"
   ]
  },
  {
   "cell_type": "code",
   "execution_count": 9,
   "id": "6d10364e-9274-4eac-bc50-0720b33b16f0",
   "metadata": {},
   "outputs": [],
   "source": [
    "x_polynomial = model.fit_transform(x)\n"
   ]
  },
  {
   "cell_type": "code",
   "execution_count": 10,
   "id": "aa009f67-e90e-468b-8cb0-bd734909345a",
   "metadata": {},
   "outputs": [],
   "source": [
    "model_linear = LR().fit(x_polynomial, y)"
   ]
  },
  {
   "cell_type": "code",
   "execution_count": 11,
   "id": "707cd20c-c8fa-4329-867c-209d05c4189f",
   "metadata": {},
   "outputs": [],
   "source": [
    "x_pred = np.linspace(0, 10, 50).reshape(-1, 1)"
   ]
  },
  {
   "cell_type": "code",
   "execution_count": 12,
   "id": "b29a09fb-3351-4eec-8192-03dc8570b6f2",
   "metadata": {},
   "outputs": [],
   "source": [
    "x_pred_polynom = model.transform(x_pred)"
   ]
  },
  {
   "cell_type": "code",
   "execution_count": 13,
   "id": "ffd11feb-43c9-4266-aaec-a1bb9364f2dc",
   "metadata": {},
   "outputs": [],
   "source": [
    "y_pred = model_linear.predict(x_pred_polynom)"
   ]
  },
  {
   "cell_type": "code",
   "execution_count": 14,
   "id": "486ebcd6-82f3-4896-a127-c28ca295649a",
   "metadata": {},
   "outputs": [
    {
     "data": {
      "text/plain": [
       "Text(0.5, 1.0, 'Polynimial Regression')"
      ]
     },
     "execution_count": 14,
     "metadata": {},
     "output_type": "execute_result"
    },
    {
     "data": {
      "image/png": "[encoded data removed]",
      "text/plain": [
       "<Figure size 640x480 with 1 Axes>"
      ]
     },
     "metadata": {},
     "output_type": "display_data"
    }
   ],
   "source": [
    "plt.scatter(x, y, color = 'red')\n",
    "plt.plot(x_pred, y_pred, color = 'green', linewidth = 2.3)\n",
    "plt.xlabel('Level')\n",
    "plt.ylabel('Salary')\n",
    "plt.title('Polynimial Regression')"
   ]
  },
  {
   "cell_type": "code",
   "execution_count": 38,
   "id": "b76ac38a-b1b9-4a4b-840d-8d9db36e42ea",
   "metadata": {},
   "outputs": [
    {
     "data": {
      "text/plain": [
       "0.9999494749253776"
      ]
     },
     "execution_count": 38,
     "metadata": {},
     "output_type": "execute_result"
    }
   ],
   "source": [
    "score = model_linear.score(x_polynomial, y)\n",
    "score"
   ]
  }
 ],
 "metadata": {
  "kernelspec": {
   "display_name": "Python 3 (ipykernel)",
   "language": "python",
   "name": "python3"
  },
  "language_info": {
   "codemirror_mode": {
    "name": "ipython",
    "version": 3
   },
   "file_extension": ".py",
   "mimetype": "text/x-python",
   "name": "python",
   "nbconvert_exporter": "python",
   "pygments_lexer": "ipython3",
   "version": "3.11.1"
  }
 },
 "nbformat": 4,
 "nbformat_minor": 5
}
