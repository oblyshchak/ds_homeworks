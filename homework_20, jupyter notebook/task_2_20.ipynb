{
 "cells": [
  {
   "cell_type": "code",
   "execution_count": 64,
   "metadata": {},
   "outputs": [],
   "source": [
    "from random_words import RandomWords\n",
    "import random"
   ]
  },
  {
   "cell_type": "code",
   "execution_count": 68,
   "metadata": {},
   "outputs": [],
   "source": [
    "def bubble_sort(array_list):\n",
    "    n = len(array_list)\n",
    "    for i in range(n):\n",
    "        swap = True\n",
    "        for element_index in range(n - i - 1):\n",
    "            if array_list[element_index] > array_list[element_index + 1]:\n",
    "                array_list[element_index], array_list[element_index + 1] = array_list[element_index + 1], array_list[element_index]\n",
    "                swap = False\n",
    "        if swap:\n",
    "            break\n",
    "    return array_list"
   ]
  },
  {
   "cell_type": "code",
   "execution_count": 69,
   "metadata": {},
   "outputs": [],
   "source": [
    "def create_int_list(number):\n",
    "    int_list = []\n",
    "    for i in range(number):\n",
    "        int_list.append(random.randint(0, 1000))\n",
    "    return int_list\n",
    "\n",
    "\n",
    "def create_float_list(number):\n",
    "    float_list = []\n",
    "    for i in range(number):\n",
    "        float_list.append(random.uniform(0.1, 100.0))\n",
    "    return float_list\n",
    "\n",
    "\n",
    "def create_str_list(number):\n",
    "    w = RandomWords()\n",
    "    list_words = []\n",
    "    for i in range(number):\n",
    "        list_words.append(w.random_word())\n",
    "    return list_words"
   ]
  },
  {
   "cell_type": "code",
   "execution_count": 101,
   "metadata": {},
   "outputs": [
    {
     "name": "stdout",
     "output_type": "stream",
     "text": [
      "1.33 s ± 4.15 ms per loop (mean ± std. dev. of 7 runs, 10 loops each)\n"
     ]
    }
   ],
   "source": [
    "l = create_str_list(5000)\n",
    "%timeit -n 10 bubble_sort(l[:])"
   ]
  }
 ],
 "metadata": {
  "kernelspec": {
   "display_name": "Python 3",
   "language": "python",
   "name": "python3"
  },
  "language_info": {
   "codemirror_mode": {
    "name": "ipython",
    "version": 3
   },
   "file_extension": ".py",
   "mimetype": "text/x-python",
   "name": "python",
   "nbconvert_exporter": "python",
   "pygments_lexer": "ipython3",
   "version": "3.10.8 (tags/v3.10.8:aaaf517, Oct 11 2022, 16:50:30) [MSC v.1933 64 bit (AMD64)]"
  },
  "orig_nbformat": 4,
  "vscode": {
   "interpreter": {
    "hash": "7e1bde635a3a1ed1b2dc418dc4d654886efefd11b784dfc8f807e0f4a9e725de"
   }
  }
 },
 "nbformat": 4,
 "nbformat_minor": 2
}
