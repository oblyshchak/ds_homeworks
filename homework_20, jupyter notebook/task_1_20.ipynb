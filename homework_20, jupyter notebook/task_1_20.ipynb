{
 "cells": [
  {
   "cell_type": "markdown",
   "metadata": {},
   "source": []
  },
  {
   "cell_type": "markdown",
   "metadata": {},
   "source": [
    "|year    |rank   |company                |revenue |profit | \n",
    "|:---    | :---: |    :---:              |  :---: |  ---: |\n",
    "|1955    |229    |Norton                 |135.0   | N.A.  |\n",
    "|1955    |291    |Schlitz Brewing        |100.0   | N.A.  |\n",
    "|1955    |295    |Pacific Vegetable Oil  |97.9    | N.A.  |\n",
    "|1955    |297    |Liebmann Breweries     |96.0    | N.A.  |\n",
    "|1955    |353    |Minnapolis-Moline      |77.4    | N.A.  |\n"
   ]
  },
  {
   "cell_type": "markdown",
   "metadata": {},
   "source": []
  }
 ],
 "metadata": {
  "kernelspec": {
   "display_name": "Python 3",
   "language": "python",
   "name": "python3"
  },
  "language_info": {
   "codemirror_mode": {
    "name": "ipython",
    "version": 3
   },
   "file_extension": ".py",
   "mimetype": "text/x-python",
   "name": "python",
   "nbconvert_exporter": "python",
   "pygments_lexer": "ipython3",
   "version": "3.10.8 (tags/v3.10.8:aaaf517, Oct 11 2022, 16:50:30) [MSC v.1933 64 bit (AMD64)]"
  },
  "vscode": {
   "interpreter": {
    "hash": "7e1bde635a3a1ed1b2dc418dc4d654886efefd11b784dfc8f807e0f4a9e725de"
   }
  }
 },
 "nbformat": 4,
 "nbformat_minor": 2
}
